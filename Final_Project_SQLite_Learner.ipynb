{
 "cells": [
  {
   "cell_type": "markdown",
   "metadata": {},
   "source": [
    "<center>\n",
    "    <img src=\"https://cf-courses-data.s3.us.cloud-object-storage.appdomain.cloud/assets/logos/SN_web_lightmode.png\" width=\"300\">\n",
    "</center>\n",
    "\n",
    "# Assignment: Notebook for Peer Assignment\n",
    "\n",
    "Estimated time needed: 45 minutes\n"
   ]
  },
  {
   "cell_type": "markdown",
   "metadata": {},
   "source": [
    "# Assignment Scenario\n",
    "\n",
    "Congratulations! You have just been hired by a US Venture Capital firm as a data analyst.\n",
    "\n",
    "The company is considering foreign grain markets to help meet its supply chain requirements for its recent investments in the microbrewery and microdistillery industry, which is involved with the production and distribution of craft beers and spirits.\n",
    "\n",
    "Your first task is to provide a high level analysis of crop production in Canada. Your stakeholders want to understand the current and historical performance of certain crop types in terms of supply and price volatility. For now they are mainly interested in a macro-view of Canada's crop farming industry, and how it relates to the relative value of the Canadian and US dollars.\n"
   ]
  },
  {
   "cell_type": "markdown",
   "metadata": {},
   "source": [
    "# Introduction\n",
    "\n",
    "Using this R notebook you will:\n",
    "\n",
    "1.  Understand four datasets\n",
    "2.  Load the datasets into four separate tables in a database\n",
    "3.  Execute SQL queries to answer assignment questions\n",
    "\n",
    "You have already encountered two of these datasets in the previous practice lab. You will be able to reuse much of the work you did there to prepare your database tables for executing SQL queries.\n"
   ]
  },
  {
   "cell_type": "markdown",
   "metadata": {},
   "source": [
    "# Understand the datasets\n",
    "\n",
    "To complete the assignment problems in this notebook you will be using subsetted snapshots of two datasets from Statistics Canada, and one from the Bank of Canada. The links to the prepared datasets are provided in the next section; the interested student can explore the landing pages for the source datasets as follows:\n",
    "\n",
    "1.  <a href=\"https://www150.statcan.gc.ca/t1/tbl1/en/tv.action?utm_medium=Exinfluencer&utm_source=Exinfluencer&utm_content=000026UJ&utm_term=10006555&utm_id=NA-SkillsNetwork-Channel-SkillsNetworkCoursesIBMRP0203ENSkillsNetwork23863830-2021-01-01&pid=3210035901\">Canadian Principal Crops (Data & Metadata)</a>\n",
    "2.  <a href=\"https://www150.statcan.gc.ca/t1/tbl1/en/tv.action?utm_medium=Exinfluencer&utm_source=Exinfluencer&utm_content=000026UJ&utm_term=10006555&utm_id=NA-SkillsNetwork-Channel-SkillsNetworkCoursesIBMRP0203ENSkillsNetwork23863830-2021-01-01&pid=3210007701\">Farm product prices (Data & Metadata)</a>\n",
    "3.  <a href=\"https://www.bankofcanada.ca/rates/exchange/daily-exchange-rates?utm_medium=Exinfluencer&utm_source=Exinfluencer&utm_content=000026UJ&utm_term=10006555&utm_id=NA-SkillsNetwork-Channel-SkillsNetworkCoursesIBMRP0203ENSkillsNetwork23863830-2021-01-01\">Bank of Canada daily average exchange rates</a>\n",
    "\n",
    "### 1. Canadian Principal Crops Data \\*\n",
    "\n",
    "This dataset contains agricultural production measures for the principle crops grown in Canada, including a breakdown by province and teritory, for each year from 1908 to 2020.\n",
    "\n",
    "For this assignment you will use a preprocessed snapshot of this dataset (see below).\n",
    "\n",
    "A detailed description of this dataset can be obtained from the StatsCan Data Portal at:\n",
    "[https://www150.statcan.gc.ca/t1/tbl1/en/tv.action?pid=3210035901](https://www150.statcan.gc.ca/t1/tbl1/en/tv.action?utm_medium=Exinfluencer&utm_source=Exinfluencer&utm_content=000026UJ&utm_term=10006555&utm_id=NA-SkillsNetwork-Channel-SkillsNetworkCoursesIBMRP0203ENSkillsNetwork23863830-2021-01-01&pid=3210035901)\\\n",
    "Detailed information is included in the metadata file and as header text in the data file, which can be downloaded - look for the 'download options' link.\n",
    "\n",
    "### 2. Farm product prices\n",
    "\n",
    "This dataset contains monthly average farm product prices for Canadian crops and livestock by province and teritory, from 1980 to 2020 (or 'last year', whichever is greatest).\n",
    "\n",
    "For this assignment you will use a preprocessed snapshot of this dataset (see below).\n",
    "\n",
    "A description of this dataset can be obtained from the StatsCan Data Portal at:\n",
    "[https://www150.statcan.gc.ca/t1/tbl1/en/tv.action?pid=3210007701](https://www150.statcan.gc.ca/t1/tbl1/en/tv.action?utm_medium=Exinfluencer&utm_source=Exinfluencer&utm_content=000026UJ&utm_term=10006555&utm_id=NA-SkillsNetwork-Channel-SkillsNetworkCoursesIBMRP0203ENSkillsNetwork23863830-2021-01-01&pid=3210007701)\n",
    "The information is included in the metadata file, which can be downloaded - look for the 'download options' link.\n",
    "\n",
    "### 3. Bank of Canada daily average exchange rates \\*\n",
    "\n",
    "This dataset contains the daily average exchange rates for multiple foreign currencies. Exchange rates are expressed as 1 unit of the foreign currency converted into Canadian dollars. It includes only the latest four years of data, and the rates are published once each business day by 16:30 ET.\n",
    "\n",
    "For this assignment you will use a snapshot of this dataset with only the USD-CAD exchange rates included (see next section). We have also prepared a monthly averaged version which you will be using below.\n",
    "\n",
    "A brief description of this dataset and the original dataset can be obtained from the Bank of Canada Data Portal at:\n",
    "[https://www.bankofcanada.ca/rates/exchange/daily-exchange-rates/](https://www.bankofcanada.ca/rates/exchange/daily-exchange-rates/?utm_medium=Exinfluencer&utm_source=Exinfluencer&utm_content=000026UJ&utm_term=10006555&utm_id=NA-SkillsNetwork-Channel-SkillsNetworkCoursesIBMRP0203ENSkillsNetwork23863830-2021-01-01)\n",
    "\n",
    "( \\* these datasets are the same as the ones you used in the practice lab)\n"
   ]
  },
  {
   "cell_type": "markdown",
   "metadata": {},
   "source": [
    "### Dataset URLs\n",
    "\n",
    "1.  Annual Crop Data: <https://cf-courses-data.s3.us.cloud-object-storage.appdomain.cloud/IBM-RP0203EN-SkillsNetwork/labs/Final%20Project/Annual_Crop_Data.csv>\n",
    "\n",
    "2.  Farm product prices: <https://cf-courses-data.s3.us.cloud-object-storage.appdomain.cloud/IBM-RP0203EN-SkillsNetwork/labs/Final%20Project/Monthly_Farm_Prices.csv>\n",
    "\n",
    "3.  Daily FX Data: <https://cf-courses-data.s3.us.cloud-object-storage.appdomain.cloud/IBM-RP0203EN-SkillsNetwork/labs/Final%20Project/Daily_FX.csv>\n",
    "\n",
    "4.  Monthly FX Data: <https://cf-courses-data.s3.us.cloud-object-storage.appdomain.cloud/IBM-RP0203EN-SkillsNetwork/labs/Final%20Project/Monthly_FX.csv>\n",
    "\n",
    "<span style=\"color:red\">**IMPORTANT:**</span> You will be loading these datasets directly into R data frames from these URLs instead of from the StatsCan and Bank of Canada portals. The versions provided at these URLs are simplified and subsetted versions of the original datasets.\n"
   ]
  },
  {
   "cell_type": "markdown",
   "metadata": {},
   "source": [
    "#### Now let's load these datasets into four separate tables.\n",
    "\n",
    "Let's first load the RSQLite package:\n"
   ]
  },
  {
   "cell_type": "code",
   "execution_count": 1,
   "metadata": {
    "tags": []
   },
   "outputs": [
    {
     "name": "stderr",
     "output_type": "stream",
     "text": [
      "also installing the dependencies ‘fastmap’, ‘bit’, ‘rlang’, ‘cachem’, ‘bit64’, ‘blob’, ‘DBI’, ‘memoise’, ‘cpp11’\n",
      "\n",
      "Updating HTML index of packages in '.Library'\n",
      "Making 'packages.html' ... done\n"
     ]
    }
   ],
   "source": [
    "install.packages(c('RSQLite'), repos = 'https://cran.rstudio.com',dependecies=TRUE)"
   ]
  },
  {
   "cell_type": "markdown",
   "metadata": {},
   "source": [
    "#### Restart Kernel\n",
    "\n",
    "After installing the RSQLite package, it is necessary to restart R Kernel. Click **Kernel** > **Restart Kernel** from the main menu. This will register the newly installed packages. Now proceed to load the RSQLite package. \n"
   ]
  },
  {
   "cell_type": "code",
   "execution_count": 1,
   "metadata": {
    "tags": []
   },
   "outputs": [],
   "source": [
    "library(\"RSQLite\")"
   ]
  },
  {
   "cell_type": "markdown",
   "metadata": {},
   "source": [
    "## Problem 1\n",
    "\n",
    "#### Create tables\n",
    "\n",
    "Establish a connection **conn** to the RSQLite database **FinalDB.sqlite**, and create the following four tables.\n",
    "\n",
    "1.  **CROP_DATA**\n",
    "2.  **FARM_PRICES**\n",
    "3.  **DAILY_FX**\n",
    "4.  **MONTHLY_FX**\n",
    "\n",
    "The previous practice lab will help you accomplish this.\n"
   ]
  },
  {
   "cell_type": "code",
   "execution_count": 2,
   "metadata": {
    "tags": []
   },
   "outputs": [
    {
     "name": "stdout",
     "output_type": "stream",
     "text": [
      "Table was created successfully.\n",
      "Table was created successfully.\n",
      "Table was created successfully.\n",
      "Table was created successfully.\n"
     ]
    }
   ],
   "source": [
    "# Write your query here\n",
    "conn <- dbConnect(RSQLite::SQLite(),\"FinalDB.sqlite\")\n",
    "df1 <- dbExecute(conn, \n",
    "                    \"CREATE TABLE CROP_DATA (\n",
    "                                      CD_ID INTEGER NOT NULL,\n",
    "                                      YEAR DATE NOT NULL,\n",
    "                                      CROP_TYPE VARCHAR(20) NOT NULL,\n",
    "                                      GEO VARCHAR(20) NOT NULL, \n",
    "                                      SEEDED_AREA INTEGER NOT NULL,\n",
    "                                      HARVESTED_AREA INTEGER NOT NULL,\n",
    "                                      PRODUCTION INTEGER NOT NULL,\n",
    "                                      AVG_YIELD INTEGER NOT NULL,\n",
    "                                      PRIMARY KEY (CD_ID)\n",
    "                                      )\", \n",
    "                    errors=FALSE\n",
    "                    )\n",
    "\n",
    "    if (df1 == -1){\n",
    "        cat (\"An error has occurred.\\n\")\n",
    "        msg <- odbcGetErrMsg(conn)\n",
    "        print (msg)\n",
    "    } else {\n",
    "        cat (\"Table was created successfully.\\n\")\n",
    "    }\n",
    "df2 <- dbExecute(conn, \n",
    "                    \"CREATE TABLE FARM_PRICES (\n",
    "                                      CD_ID INTEGER NOT NULL,\n",
    "                                      DATE DATE NOT NULL,\n",
    "                                      CROP_TYPE VARCHAR(20) NOT NULL,\n",
    "                                      GEO VARCHAR(20) NOT NULL, \n",
    "                                      PRICE_PRERMT FLOAT(6),\n",
    "                                      PRIMARY KEY (CD_ID)\n",
    "                                      )\", \n",
    "                    errors=FALSE\n",
    "                    )\n",
    "\n",
    "    if (df2 == -1){\n",
    "        cat (\"An error has occurred.\\n\")\n",
    "        msg <- odbcGetErrMsg(conn)\n",
    "        print (msg)\n",
    "    } else {\n",
    "        cat (\"Table was created successfully.\\n\")\n",
    "    }\n",
    "df3 <- dbExecute(conn, \"CREATE TABLE DAILY_FX (\n",
    "                                DFX_ID INTEGER NOT NULL,\n",
    "                                DATE DATE NOT NULL, \n",
    "                                FXUSDCAD FLOAT(6),\n",
    "                                PRIMARY KEY (DFX_ID)\n",
    "                                )\",\n",
    "                    errors=FALSE\n",
    "                    )\n",
    "\n",
    "    if (df3 == -1){\n",
    "        cat (\"An error has occurred.\\n\")\n",
    "        msg <- odbcGetErrMsg(conn)\n",
    "        print (msg)\n",
    "    } else {\n",
    "        cat (\"Table was created successfully.\\n\")\n",
    "    } \n",
    "df4 <- dbExecute(conn, \"CREATE TABLE MONTHLY_FX (\n",
    "                                DFX_ID INTEGER NOT NULL,\n",
    "                                DATE DATE NOT NULL, \n",
    "                                FXUSDCAD FLOAT(8),\n",
    "                                PRIMARY KEY (DFX_ID)\n",
    "                                )\",\n",
    "                    errors=FALSE\n",
    "                    )\n",
    "\n",
    "    if (df4 == -1){\n",
    "        cat (\"An error has occurred.\\n\")\n",
    "        msg <- odbcGetErrMsg(conn)\n",
    "        print (msg)\n",
    "    } else {\n",
    "        cat (\"Table was created successfully.\\n\")\n",
    "    }"
   ]
  },
  {
   "cell_type": "code",
   "execution_count": 3,
   "metadata": {
    "tags": []
   },
   "outputs": [
    {
     "data": {
      "text/html": [
       "<style>\n",
       ".list-inline {list-style: none; margin:0; padding: 0}\n",
       ".list-inline>li {display: inline-block}\n",
       ".list-inline>li:not(:last-child)::after {content: \"\\00b7\"; padding: 0 .5ex}\n",
       "</style>\n",
       "<ol class=list-inline><li>'CROP_DATA'</li><li>'DAILY_FX'</li><li>'FARM_PRICES'</li><li>'MONTHLY_FX'</li></ol>\n"
      ],
      "text/latex": [
       "\\begin{enumerate*}\n",
       "\\item 'CROP\\_DATA'\n",
       "\\item 'DAILY\\_FX'\n",
       "\\item 'FARM\\_PRICES'\n",
       "\\item 'MONTHLY\\_FX'\n",
       "\\end{enumerate*}\n"
      ],
      "text/markdown": [
       "1. 'CROP_DATA'\n",
       "2. 'DAILY_FX'\n",
       "3. 'FARM_PRICES'\n",
       "4. 'MONTHLY_FX'\n",
       "\n",
       "\n"
      ],
      "text/plain": [
       "[1] \"CROP_DATA\"   \"DAILY_FX\"    \"FARM_PRICES\" \"MONTHLY_FX\" "
      ]
     },
     "metadata": {},
     "output_type": "display_data"
    }
   ],
   "source": [
    "#check list of tables in the present db.\n",
    "dbListTables(conn)"
   ]
  },
  {
   "cell_type": "markdown",
   "metadata": {},
   "source": [
    "## Problem 2\n",
    "\n",
    "#### Read Datasets and load your tables in database\n",
    "\n",
    "Read the datasets into R dataframes using the urls provided above. Then load your tables in database.\n"
   ]
  },
  {
   "cell_type": "code",
   "execution_count": 9,
   "metadata": {
    "tags": []
   },
   "outputs": [
    {
     "name": "stderr",
     "output_type": "stream",
     "text": [
      "Warning message in read.table(file = file, header = header, sep = sep, quote = quote, :\n",
      "“not all columns named in 'colClasses' exist”Warning message in read.table(file = file, header = header, sep = sep, quote = quote, :\n",
      "“not all columns named in 'colClasses' exist”"
     ]
    },
    {
     "ename": "ERROR",
     "evalue": "Error in sqlSave(conn, crop_df, \"CROP_DATA\", append = TRUE, fast = FALSE, : could not find function \"sqlSave\"\n",
     "execution_count": 9,
     "output_type": "error",
     "traceback": [
      "Error in sqlSave(conn, crop_df, \"CROP_DATA\", append = TRUE, fast = FALSE, : could not find function \"sqlSave\"\nTraceback:\n"
     ]
    }
   ],
   "source": [
    "# Write your query here\n",
    "crop_df <- read.csv('https://cf-courses-data.s3.us.cloud-object-storage.appdomain.cloud/IBM-RP0203EN-SkillsNetwork/labs/Final%20Project/Annual_Crop_Data.csv', colClasses=c(YEAR=\"character\"))\n",
    "farm_df <- read.csv('https://cf-courses-data.s3.us.cloud-object-storage.appdomain.cloud/IBM-RP0203EN-SkillsNetwork/labs/Final%20Project/Monthly_Farm_Prices.csv', colClasses=c(DATE=\"character\"))\n",
    "daily_df <- read.csv('https://cf-courses-data.s3.us.cloud-object-storage.appdomain.cloud/IBM-RP0203EN-SkillsNetwork/labs/Final%20Project/Daily_FX.csv', colClasses=c(date=\"character\"))\n",
    "monthly_df <- read.csv('https://cf-courses-data.s3.us.cloud-object-storage.appdomain.cloud/IBM-RP0203EN-SkillsNetwork/labs/Final%20Project/Monthly_FX.csv', colClasses=c(date=\"character\"))\n",
    "\n",
    "sqlSave(conn,crop_df,\"CROP_DATA\", append = TRUE, fast = FALSE, rownames = FALSE, verbose = FALSE)\n",
    "sqlSave(conn,farm_df,\"DAILY_FX\", append = TRUE, fast = FALSE, rownames = FALSE, verbose = FALSE)\n",
    "sqlSave(conn,daily_df,\"CROP_DATA\", append = TRUE, fast = FALSE, rownames = FALSE, verbose = FALSE)\n",
    "sqlSave(conn,monthly_df,\"MONTHLY_FX\", append = TRUE, fast = FALSE, rownames = FALSE, verbose = FALSE)\n",
    "\n",
    "head(crop_df)\n",
    "head(farm_df)\n",
    "head(daily_df)\n",
    "head(monthly_df)"
   ]
  },
  {
   "cell_type": "code",
   "execution_count": 10,
   "metadata": {
    "tags": []
   },
   "outputs": [],
   "source": [
    "dbWriteTable(conn, \"CROP_DATA\", crop_df, overwrite=TRUE, header = TRUE)\n",
    "     \n",
    "\n",
    "dbWriteTable(conn, \"FARM_PRICES\", farm_df, overwrite=TRUE, header = TRUE)\n",
    "     \n",
    "\n",
    "dbWriteTable(conn, \"DAILY_FX\", daily_df, overwrite=TRUE, header = TRUE)\n",
    "     \n",
    "\n",
    "dbWriteTable(conn, \"MONTHLY_FX\", monthly_df, overwrite=TRUE, header = TRUE)"
   ]
  },
  {
   "cell_type": "markdown",
   "metadata": {
    "tags": []
   },
   "source": [
    "## Now execute SQL queries using the RSQLite R package to solve the assignment problems.\n",
    "\n",
    "## Problem 3\n",
    "\n",
    "#### How many records are in the farm prices dataset?\n"
   ]
  },
  {
   "cell_type": "code",
   "execution_count": 11,
   "metadata": {
    "tags": []
   },
   "outputs": [
    {
     "data": {
      "text/html": [
       "<table>\n",
       "<caption>A data.frame: 1 × 1</caption>\n",
       "<thead>\n",
       "\t<tr><th scope=col>COUNT(*)</th></tr>\n",
       "\t<tr><th scope=col>&lt;int&gt;</th></tr>\n",
       "</thead>\n",
       "<tbody>\n",
       "\t<tr><td>2678</td></tr>\n",
       "</tbody>\n",
       "</table>\n"
      ],
      "text/latex": [
       "A data.frame: 1 × 1\n",
       "\\begin{tabular}{l}\n",
       " COUNT(*)\\\\\n",
       " <int>\\\\\n",
       "\\hline\n",
       "\t 2678\\\\\n",
       "\\end{tabular}\n"
      ],
      "text/markdown": [
       "\n",
       "A data.frame: 1 × 1\n",
       "\n",
       "| COUNT(*) &lt;int&gt; |\n",
       "|---|\n",
       "| 2678 |\n",
       "\n"
      ],
      "text/plain": [
       "  COUNT(*)\n",
       "1 2678    "
      ]
     },
     "metadata": {},
     "output_type": "display_data"
    }
   ],
   "source": [
    "# Write your query here\n",
    "dbGetQuery(conn, 'SELECT COUNT(*) FROM FARM_PRICES')"
   ]
  },
  {
   "cell_type": "markdown",
   "metadata": {},
   "source": [
    "## Problem 4\n",
    "\n",
    "#### Which geographies are included in the farm prices dataset?\n"
   ]
  },
  {
   "cell_type": "code",
   "execution_count": 12,
   "metadata": {
    "tags": []
   },
   "outputs": [
    {
     "data": {
      "text/html": [
       "<table>\n",
       "<caption>A data.frame: 2 × 1</caption>\n",
       "<thead>\n",
       "\t<tr><th scope=col>GEO</th></tr>\n",
       "\t<tr><th scope=col>&lt;chr&gt;</th></tr>\n",
       "</thead>\n",
       "<tbody>\n",
       "\t<tr><td>Alberta     </td></tr>\n",
       "\t<tr><td>Saskatchewan</td></tr>\n",
       "</tbody>\n",
       "</table>\n"
      ],
      "text/latex": [
       "A data.frame: 2 × 1\n",
       "\\begin{tabular}{l}\n",
       " GEO\\\\\n",
       " <chr>\\\\\n",
       "\\hline\n",
       "\t Alberta     \\\\\n",
       "\t Saskatchewan\\\\\n",
       "\\end{tabular}\n"
      ],
      "text/markdown": [
       "\n",
       "A data.frame: 2 × 1\n",
       "\n",
       "| GEO &lt;chr&gt; |\n",
       "|---|\n",
       "| Alberta      |\n",
       "| Saskatchewan |\n",
       "\n"
      ],
      "text/plain": [
       "  GEO         \n",
       "1 Alberta     \n",
       "2 Saskatchewan"
      ]
     },
     "metadata": {},
     "output_type": "display_data"
    }
   ],
   "source": [
    "# Write your query here\n",
    "dbGetQuery(conn, 'SELECT DISTINCT(GEO) FROM FARM_PRICES')"
   ]
  },
  {
   "cell_type": "markdown",
   "metadata": {},
   "source": [
    "## Problem 5\n",
    "\n",
    "#### How many hectares of Rye were harvested in Canada in 1968?\n"
   ]
  },
  {
   "cell_type": "code",
   "execution_count": 13,
   "metadata": {
    "tags": []
   },
   "outputs": [
    {
     "data": {
      "text/html": [
       "<table>\n",
       "<caption>A data.frame: 1 × 3</caption>\n",
       "<thead>\n",
       "\t<tr><th scope=col>HECTARES_OF_RYE_IN_1968</th><th scope=col>CROP_TYPE</th><th scope=col>GEO</th></tr>\n",
       "\t<tr><th scope=col>&lt;int&gt;</th><th scope=col>&lt;chr&gt;</th><th scope=col>&lt;chr&gt;</th></tr>\n",
       "</thead>\n",
       "<tbody>\n",
       "\t<tr><td>274100</td><td>Rye</td><td>Canada</td></tr>\n",
       "</tbody>\n",
       "</table>\n"
      ],
      "text/latex": [
       "A data.frame: 1 × 3\n",
       "\\begin{tabular}{lll}\n",
       " HECTARES\\_OF\\_RYE\\_IN\\_1968 & CROP\\_TYPE & GEO\\\\\n",
       " <int> & <chr> & <chr>\\\\\n",
       "\\hline\n",
       "\t 274100 & Rye & Canada\\\\\n",
       "\\end{tabular}\n"
      ],
      "text/markdown": [
       "\n",
       "A data.frame: 1 × 3\n",
       "\n",
       "| HECTARES_OF_RYE_IN_1968 &lt;int&gt; | CROP_TYPE &lt;chr&gt; | GEO &lt;chr&gt; |\n",
       "|---|---|---|\n",
       "| 274100 | Rye | Canada |\n",
       "\n"
      ],
      "text/plain": [
       "  HECTARES_OF_RYE_IN_1968 CROP_TYPE GEO   \n",
       "1 274100                  Rye       Canada"
      ]
     },
     "metadata": {},
     "output_type": "display_data"
    }
   ],
   "source": [
    "# Write your query here\n",
    "dbGetQuery(conn, \"SELECT HARVESTED_AREA AS HECTARES_OF_RYE_IN_1968, CROP_TYPE, GEO\n",
    "    FROM CROP_DATA \n",
    "    WHERE YEAR BETWEEN 1968 AND 1969 AND\n",
    "          CROP_TYPE='Rye' AND \n",
    "          GEO='Canada' \")"
   ]
  },
  {
   "cell_type": "markdown",
   "metadata": {},
   "source": [
    "## Problem 6\n",
    "\n",
    "#### Query and display the first 6 rows of the farm prices table for Rye.\n"
   ]
  },
  {
   "cell_type": "code",
   "execution_count": 14,
   "metadata": {
    "tags": []
   },
   "outputs": [
    {
     "data": {
      "text/html": [
       "<table>\n",
       "<caption>A data.frame: 6 × 5</caption>\n",
       "<thead>\n",
       "\t<tr><th scope=col>CD_ID</th><th scope=col>DATE</th><th scope=col>CROP_TYPE</th><th scope=col>GEO</th><th scope=col>PRICE_PRERMT</th></tr>\n",
       "\t<tr><th scope=col>&lt;int&gt;</th><th scope=col>&lt;chr&gt;</th><th scope=col>&lt;chr&gt;</th><th scope=col>&lt;chr&gt;</th><th scope=col>&lt;dbl&gt;</th></tr>\n",
       "</thead>\n",
       "<tbody>\n",
       "\t<tr><td> 4</td><td>1985-01-01</td><td>Rye</td><td>Alberta     </td><td>100.77</td></tr>\n",
       "\t<tr><td> 5</td><td>1985-01-01</td><td>Rye</td><td>Saskatchewan</td><td>109.75</td></tr>\n",
       "\t<tr><td>10</td><td>1985-02-01</td><td>Rye</td><td>Alberta     </td><td> 95.05</td></tr>\n",
       "\t<tr><td>11</td><td>1985-02-01</td><td>Rye</td><td>Saskatchewan</td><td>103.46</td></tr>\n",
       "\t<tr><td>16</td><td>1985-03-01</td><td>Rye</td><td>Alberta     </td><td> 96.77</td></tr>\n",
       "\t<tr><td>17</td><td>1985-03-01</td><td>Rye</td><td>Saskatchewan</td><td>106.38</td></tr>\n",
       "</tbody>\n",
       "</table>\n"
      ],
      "text/latex": [
       "A data.frame: 6 × 5\n",
       "\\begin{tabular}{lllll}\n",
       " CD\\_ID & DATE & CROP\\_TYPE & GEO & PRICE\\_PRERMT\\\\\n",
       " <int> & <chr> & <chr> & <chr> & <dbl>\\\\\n",
       "\\hline\n",
       "\t  4 & 1985-01-01 & Rye & Alberta      & 100.77\\\\\n",
       "\t  5 & 1985-01-01 & Rye & Saskatchewan & 109.75\\\\\n",
       "\t 10 & 1985-02-01 & Rye & Alberta      &  95.05\\\\\n",
       "\t 11 & 1985-02-01 & Rye & Saskatchewan & 103.46\\\\\n",
       "\t 16 & 1985-03-01 & Rye & Alberta      &  96.77\\\\\n",
       "\t 17 & 1985-03-01 & Rye & Saskatchewan & 106.38\\\\\n",
       "\\end{tabular}\n"
      ],
      "text/markdown": [
       "\n",
       "A data.frame: 6 × 5\n",
       "\n",
       "| CD_ID &lt;int&gt; | DATE &lt;chr&gt; | CROP_TYPE &lt;chr&gt; | GEO &lt;chr&gt; | PRICE_PRERMT &lt;dbl&gt; |\n",
       "|---|---|---|---|---|\n",
       "|  4 | 1985-01-01 | Rye | Alberta      | 100.77 |\n",
       "|  5 | 1985-01-01 | Rye | Saskatchewan | 109.75 |\n",
       "| 10 | 1985-02-01 | Rye | Alberta      |  95.05 |\n",
       "| 11 | 1985-02-01 | Rye | Saskatchewan | 103.46 |\n",
       "| 16 | 1985-03-01 | Rye | Alberta      |  96.77 |\n",
       "| 17 | 1985-03-01 | Rye | Saskatchewan | 106.38 |\n",
       "\n"
      ],
      "text/plain": [
       "  CD_ID DATE       CROP_TYPE GEO          PRICE_PRERMT\n",
       "1  4    1985-01-01 Rye       Alberta      100.77      \n",
       "2  5    1985-01-01 Rye       Saskatchewan 109.75      \n",
       "3 10    1985-02-01 Rye       Alberta       95.05      \n",
       "4 11    1985-02-01 Rye       Saskatchewan 103.46      \n",
       "5 16    1985-03-01 Rye       Alberta       96.77      \n",
       "6 17    1985-03-01 Rye       Saskatchewan 106.38      "
      ]
     },
     "metadata": {},
     "output_type": "display_data"
    }
   ],
   "source": [
    "# Wriet your query here\n",
    "dbGetQuery(conn, \"SELECT * FROM FARM_PRICES WHERE CROP_TYPE='Rye' LIMIT 6\")"
   ]
  },
  {
   "cell_type": "markdown",
   "metadata": {},
   "source": [
    "## Problem 7\n",
    "\n",
    "#### Which provinces grew Barley?\n"
   ]
  },
  {
   "cell_type": "code",
   "execution_count": 15,
   "metadata": {
    "collapsed": true,
    "jupyter": {
     "outputs_hidden": true
    },
    "tags": []
   },
   "outputs": [
    {
     "data": {
      "text/html": [
       "<table>\n",
       "<caption>A data.frame: 3 × 1</caption>\n",
       "<thead>\n",
       "\t<tr><th scope=col>PROVINCE</th></tr>\n",
       "\t<tr><th scope=col>&lt;chr&gt;</th></tr>\n",
       "</thead>\n",
       "<tbody>\n",
       "\t<tr><td>Alberta     </td></tr>\n",
       "\t<tr><td>Canada      </td></tr>\n",
       "\t<tr><td>Saskatchewan</td></tr>\n",
       "</tbody>\n",
       "</table>\n"
      ],
      "text/latex": [
       "A data.frame: 3 × 1\n",
       "\\begin{tabular}{l}\n",
       " PROVINCE\\\\\n",
       " <chr>\\\\\n",
       "\\hline\n",
       "\t Alberta     \\\\\n",
       "\t Canada      \\\\\n",
       "\t Saskatchewan\\\\\n",
       "\\end{tabular}\n"
      ],
      "text/markdown": [
       "\n",
       "A data.frame: 3 × 1\n",
       "\n",
       "| PROVINCE &lt;chr&gt; |\n",
       "|---|\n",
       "| Alberta      |\n",
       "| Canada       |\n",
       "| Saskatchewan |\n",
       "\n"
      ],
      "text/plain": [
       "  PROVINCE    \n",
       "1 Alberta     \n",
       "2 Canada      \n",
       "3 Saskatchewan"
      ]
     },
     "metadata": {},
     "output_type": "display_data"
    }
   ],
   "source": [
    "# Write your query here\n",
    "dbGetQuery(conn, \"SELECT DISTINCT(GEO) AS PROVINCE\n",
    "FROM CROP_DATA \n",
    "WHERE CROP_TYPE = 'Barley'\")"
   ]
  },
  {
   "cell_type": "markdown",
   "metadata": {},
   "source": [
    "## Problem 8\n",
    "\n",
    "#### Find the first and last dates for the farm prices data.\n"
   ]
  },
  {
   "cell_type": "code",
   "execution_count": 16,
   "metadata": {
    "tags": []
   },
   "outputs": [
    {
     "data": {
      "text/html": [
       "<table>\n",
       "<caption>A data.frame: 1 × 2</caption>\n",
       "<thead>\n",
       "\t<tr><th scope=col>FIRST_DATE</th><th scope=col>LAST_DATE</th></tr>\n",
       "\t<tr><th scope=col>&lt;chr&gt;</th><th scope=col>&lt;chr&gt;</th></tr>\n",
       "</thead>\n",
       "<tbody>\n",
       "\t<tr><td>1985-01-01</td><td>2020-12-01</td></tr>\n",
       "</tbody>\n",
       "</table>\n"
      ],
      "text/latex": [
       "A data.frame: 1 × 2\n",
       "\\begin{tabular}{ll}\n",
       " FIRST\\_DATE & LAST\\_DATE\\\\\n",
       " <chr> & <chr>\\\\\n",
       "\\hline\n",
       "\t 1985-01-01 & 2020-12-01\\\\\n",
       "\\end{tabular}\n"
      ],
      "text/markdown": [
       "\n",
       "A data.frame: 1 × 2\n",
       "\n",
       "| FIRST_DATE &lt;chr&gt; | LAST_DATE &lt;chr&gt; |\n",
       "|---|---|\n",
       "| 1985-01-01 | 2020-12-01 |\n",
       "\n"
      ],
      "text/plain": [
       "  FIRST_DATE LAST_DATE \n",
       "1 1985-01-01 2020-12-01"
      ]
     },
     "metadata": {},
     "output_type": "display_data"
    }
   ],
   "source": [
    "# Write your query here\n",
    "dbGetQuery(conn, 'SELECT min(DATE) FIRST_DATE, max(DATE) LAST_DATE FROM FARM_PRICES')"
   ]
  },
  {
   "cell_type": "markdown",
   "metadata": {},
   "source": [
    "## Problem 9\n",
    "\n",
    "#### Which crops have ever reached a farm price greater than or equal to $350 per metric tonne?\n"
   ]
  },
  {
   "cell_type": "code",
   "execution_count": 17,
   "metadata": {
    "tags": []
   },
   "outputs": [
    {
     "data": {
      "text/html": [
       "<table>\n",
       "<caption>A data.frame: 1 × 1</caption>\n",
       "<thead>\n",
       "\t<tr><th scope=col>CROPS_GREATER_OR_EQUAL_350</th></tr>\n",
       "\t<tr><th scope=col>&lt;chr&gt;</th></tr>\n",
       "</thead>\n",
       "<tbody>\n",
       "\t<tr><td>Canola</td></tr>\n",
       "</tbody>\n",
       "</table>\n"
      ],
      "text/latex": [
       "A data.frame: 1 × 1\n",
       "\\begin{tabular}{l}\n",
       " CROPS\\_GREATER\\_OR\\_EQUAL\\_350\\\\\n",
       " <chr>\\\\\n",
       "\\hline\n",
       "\t Canola\\\\\n",
       "\\end{tabular}\n"
      ],
      "text/markdown": [
       "\n",
       "A data.frame: 1 × 1\n",
       "\n",
       "| CROPS_GREATER_OR_EQUAL_350 &lt;chr&gt; |\n",
       "|---|\n",
       "| Canola |\n",
       "\n"
      ],
      "text/plain": [
       "  CROPS_GREATER_OR_EQUAL_350\n",
       "1 Canola                    "
      ]
     },
     "metadata": {},
     "output_type": "display_data"
    }
   ],
   "source": [
    "# Write your query here\n",
    "dbGetQuery(conn, \"SELECT DISTINCT(CROP_TYPE) AS CROPS_GREATER_OR_EQUAL_350\n",
    "    FROM FARM_PRICES \n",
    "    WHERE PRICE_PRERMT >= 350 \")"
   ]
  },
  {
   "cell_type": "markdown",
   "metadata": {},
   "source": [
    "## Problem 10\n",
    "\n",
    "#### Rank the crop types harvested in Saskatchewan in the year 2000 by their average yield. Which crop performed best?\n"
   ]
  },
  {
   "cell_type": "code",
   "execution_count": 18,
   "metadata": {
    "tags": []
   },
   "outputs": [
    {
     "data": {
      "text/html": [
       "<table>\n",
       "<caption>A data.frame: 4 × 3</caption>\n",
       "<thead>\n",
       "\t<tr><th scope=col>CROP_TYPE</th><th scope=col>AVG_YIELD</th><th scope=col>YEAR</th></tr>\n",
       "\t<tr><th scope=col>&lt;chr&gt;</th><th scope=col>&lt;int&gt;</th><th scope=col>&lt;chr&gt;</th></tr>\n",
       "</thead>\n",
       "<tbody>\n",
       "\t<tr><td>Barley</td><td>2800</td><td>2000-12-31</td></tr>\n",
       "\t<tr><td>Wheat </td><td>2200</td><td>2000-12-31</td></tr>\n",
       "\t<tr><td>Rye   </td><td>2100</td><td>2000-12-31</td></tr>\n",
       "\t<tr><td>Canola</td><td>1400</td><td>2000-12-31</td></tr>\n",
       "</tbody>\n",
       "</table>\n"
      ],
      "text/latex": [
       "A data.frame: 4 × 3\n",
       "\\begin{tabular}{lll}\n",
       " CROP\\_TYPE & AVG\\_YIELD & YEAR\\\\\n",
       " <chr> & <int> & <chr>\\\\\n",
       "\\hline\n",
       "\t Barley & 2800 & 2000-12-31\\\\\n",
       "\t Wheat  & 2200 & 2000-12-31\\\\\n",
       "\t Rye    & 2100 & 2000-12-31\\\\\n",
       "\t Canola & 1400 & 2000-12-31\\\\\n",
       "\\end{tabular}\n"
      ],
      "text/markdown": [
       "\n",
       "A data.frame: 4 × 3\n",
       "\n",
       "| CROP_TYPE &lt;chr&gt; | AVG_YIELD &lt;int&gt; | YEAR &lt;chr&gt; |\n",
       "|---|---|---|\n",
       "| Barley | 2800 | 2000-12-31 |\n",
       "| Wheat  | 2200 | 2000-12-31 |\n",
       "| Rye    | 2100 | 2000-12-31 |\n",
       "| Canola | 1400 | 2000-12-31 |\n",
       "\n"
      ],
      "text/plain": [
       "  CROP_TYPE AVG_YIELD YEAR      \n",
       "1 Barley    2800      2000-12-31\n",
       "2 Wheat     2200      2000-12-31\n",
       "3 Rye       2100      2000-12-31\n",
       "4 Canola    1400      2000-12-31"
      ]
     },
     "metadata": {},
     "output_type": "display_data"
    }
   ],
   "source": [
    "# Write your query here\n",
    "dbGetQuery(conn, \"SELECT CROP_TYPE, AVG_YIELD, YEAR\n",
    "FROM CROP_DATA \n",
    "WHERE GEO = 'Saskatchewan' AND YEAR BETWEEN 2000 AND 2001\n",
    "    ORDER BY AVG_YIELD DESC\")"
   ]
  },
  {
   "cell_type": "markdown",
   "metadata": {},
   "source": [
    "## Problem 11\n",
    "\n",
    "#### Rank the crops and geographies by their average yield (KG per hectare) since the year 2000. Which crop and province had the highest average yield since the year 2000?\n"
   ]
  },
  {
   "cell_type": "code",
   "execution_count": 19,
   "metadata": {
    "tags": []
   },
   "outputs": [
    {
     "data": {
      "text/html": [
       "<table>\n",
       "<caption>A data.frame: 12 × 3</caption>\n",
       "<thead>\n",
       "\t<tr><th scope=col>CROP_TYPE</th><th scope=col>GEO</th><th scope=col>KG_per_hectare</th></tr>\n",
       "\t<tr><th scope=col>&lt;chr&gt;</th><th scope=col>&lt;chr&gt;</th><th scope=col>&lt;dbl&gt;</th></tr>\n",
       "</thead>\n",
       "<tbody>\n",
       "\t<tr><td>Barley</td><td>Alberta     </td><td>3450.714</td></tr>\n",
       "\t<tr><td>Barley</td><td>Canada      </td><td>3253.762</td></tr>\n",
       "\t<tr><td>Wheat </td><td>Alberta     </td><td>3100.619</td></tr>\n",
       "\t<tr><td>Barley</td><td>Saskatchewan</td><td>2971.048</td></tr>\n",
       "\t<tr><td>Wheat </td><td>Canada      </td><td>2845.333</td></tr>\n",
       "\t<tr><td>Rye   </td><td>Alberta     </td><td>2683.810</td></tr>\n",
       "\t<tr><td>Rye   </td><td>Canada      </td><td>2543.905</td></tr>\n",
       "\t<tr><td>Wheat </td><td>Saskatchewan</td><td>2429.381</td></tr>\n",
       "\t<tr><td>Rye   </td><td>Saskatchewan</td><td>2226.714</td></tr>\n",
       "\t<tr><td>Canola</td><td>Alberta     </td><td>1999.238</td></tr>\n",
       "\t<tr><td>Canola</td><td>Canada      </td><td>1873.381</td></tr>\n",
       "\t<tr><td>Canola</td><td>Saskatchewan</td><td>1754.857</td></tr>\n",
       "</tbody>\n",
       "</table>\n"
      ],
      "text/latex": [
       "A data.frame: 12 × 3\n",
       "\\begin{tabular}{lll}\n",
       " CROP\\_TYPE & GEO & KG\\_per\\_hectare\\\\\n",
       " <chr> & <chr> & <dbl>\\\\\n",
       "\\hline\n",
       "\t Barley & Alberta      & 3450.714\\\\\n",
       "\t Barley & Canada       & 3253.762\\\\\n",
       "\t Wheat  & Alberta      & 3100.619\\\\\n",
       "\t Barley & Saskatchewan & 2971.048\\\\\n",
       "\t Wheat  & Canada       & 2845.333\\\\\n",
       "\t Rye    & Alberta      & 2683.810\\\\\n",
       "\t Rye    & Canada       & 2543.905\\\\\n",
       "\t Wheat  & Saskatchewan & 2429.381\\\\\n",
       "\t Rye    & Saskatchewan & 2226.714\\\\\n",
       "\t Canola & Alberta      & 1999.238\\\\\n",
       "\t Canola & Canada       & 1873.381\\\\\n",
       "\t Canola & Saskatchewan & 1754.857\\\\\n",
       "\\end{tabular}\n"
      ],
      "text/markdown": [
       "\n",
       "A data.frame: 12 × 3\n",
       "\n",
       "| CROP_TYPE &lt;chr&gt; | GEO &lt;chr&gt; | KG_per_hectare &lt;dbl&gt; |\n",
       "|---|---|---|\n",
       "| Barley | Alberta      | 3450.714 |\n",
       "| Barley | Canada       | 3253.762 |\n",
       "| Wheat  | Alberta      | 3100.619 |\n",
       "| Barley | Saskatchewan | 2971.048 |\n",
       "| Wheat  | Canada       | 2845.333 |\n",
       "| Rye    | Alberta      | 2683.810 |\n",
       "| Rye    | Canada       | 2543.905 |\n",
       "| Wheat  | Saskatchewan | 2429.381 |\n",
       "| Rye    | Saskatchewan | 2226.714 |\n",
       "| Canola | Alberta      | 1999.238 |\n",
       "| Canola | Canada       | 1873.381 |\n",
       "| Canola | Saskatchewan | 1754.857 |\n",
       "\n"
      ],
      "text/plain": [
       "   CROP_TYPE GEO          KG_per_hectare\n",
       "1  Barley    Alberta      3450.714      \n",
       "2  Barley    Canada       3253.762      \n",
       "3  Wheat     Alberta      3100.619      \n",
       "4  Barley    Saskatchewan 2971.048      \n",
       "5  Wheat     Canada       2845.333      \n",
       "6  Rye       Alberta      2683.810      \n",
       "7  Rye       Canada       2543.905      \n",
       "8  Wheat     Saskatchewan 2429.381      \n",
       "9  Rye       Saskatchewan 2226.714      \n",
       "10 Canola    Alberta      1999.238      \n",
       "11 Canola    Canada       1873.381      \n",
       "12 Canola    Saskatchewan 1754.857      "
      ]
     },
     "metadata": {},
     "output_type": "display_data"
    }
   ],
   "source": [
    "# Write your query here\n",
    "dbGetQuery(conn, \"SELECT CROP_TYPE, GEO, AVG(AVG_YIELD) AS KG_per_hectare\n",
    "            FROM CROP_DATA WHERE YEAR >= 2000\n",
    "            GROUP BY CROP_TYPE, GEO\n",
    "            ORDER BY AVG(AVG_YIELD) DESC\")"
   ]
  },
  {
   "cell_type": "markdown",
   "metadata": {},
   "source": [
    "## Problem 12\n",
    "\n",
    "#### Use a subquery to determine how much wheat was harvested in Canada in the most recent year of the data.\n"
   ]
  },
  {
   "cell_type": "code",
   "execution_count": 20,
   "metadata": {
    "tags": []
   },
   "outputs": [
    {
     "data": {
      "text/html": [
       "<table>\n",
       "<caption>A data.frame: 1 × 5</caption>\n",
       "<thead>\n",
       "\t<tr><th scope=col>YEAR</th><th scope=col>CROP_TYPE</th><th scope=col>GEO</th><th scope=col>HARVESTED_AREA</th><th scope=col>AVG_YIELD</th></tr>\n",
       "\t<tr><th scope=col>&lt;chr&gt;</th><th scope=col>&lt;chr&gt;</th><th scope=col>&lt;chr&gt;</th><th scope=col>&lt;int&gt;</th><th scope=col>&lt;int&gt;</th></tr>\n",
       "</thead>\n",
       "<tbody>\n",
       "\t<tr><td>2020-12-31</td><td>Wheat</td><td>Canada</td><td>10017800</td><td>3512</td></tr>\n",
       "</tbody>\n",
       "</table>\n"
      ],
      "text/latex": [
       "A data.frame: 1 × 5\n",
       "\\begin{tabular}{lllll}\n",
       " YEAR & CROP\\_TYPE & GEO & HARVESTED\\_AREA & AVG\\_YIELD\\\\\n",
       " <chr> & <chr> & <chr> & <int> & <int>\\\\\n",
       "\\hline\n",
       "\t 2020-12-31 & Wheat & Canada & 10017800 & 3512\\\\\n",
       "\\end{tabular}\n"
      ],
      "text/markdown": [
       "\n",
       "A data.frame: 1 × 5\n",
       "\n",
       "| YEAR &lt;chr&gt; | CROP_TYPE &lt;chr&gt; | GEO &lt;chr&gt; | HARVESTED_AREA &lt;int&gt; | AVG_YIELD &lt;int&gt; |\n",
       "|---|---|---|---|---|\n",
       "| 2020-12-31 | Wheat | Canada | 10017800 | 3512 |\n",
       "\n"
      ],
      "text/plain": [
       "  YEAR       CROP_TYPE GEO    HARVESTED_AREA AVG_YIELD\n",
       "1 2020-12-31 Wheat     Canada 10017800       3512     "
      ]
     },
     "metadata": {},
     "output_type": "display_data"
    }
   ],
   "source": [
    "# Write your query here\n",
    "dbGetQuery(conn, \"SELECT YEAR, CROP_TYPE, GEO, HARVESTED_AREA, AVG_YIELD\n",
    "    FROM CROP_DATA \n",
    "    WHERE YEAR =(SELECT MAX(YEAR) FROM CROP_DATA) AND CROP_TYPE='Wheat' AND \n",
    "          GEO='Canada'\n",
    "    ORDER BY YEAR DESC\" )"
   ]
  },
  {
   "cell_type": "markdown",
   "metadata": {},
   "source": [
    "## Problem 13\n",
    "\n",
    "#### Use an implicit inner join to calculate the monthly price per metric tonne of Canola grown in Saskatchewan in both Canadian and US dollars. Display the most recent 6 months of the data.\n"
   ]
  },
  {
   "cell_type": "code",
   "execution_count": 21,
   "metadata": {
    "tags": []
   },
   "outputs": [
    {
     "data": {
      "text/html": [
       "<table>\n",
       "<caption>A data.frame: 6 × 6</caption>\n",
       "<thead>\n",
       "\t<tr><th scope=col>DATE</th><th scope=col>DATE</th><th scope=col>CROP_TYPE</th><th scope=col>GEO</th><th scope=col>PRICE_PRERMT</th><th scope=col>MT_USD</th></tr>\n",
       "\t<tr><th scope=col>&lt;chr&gt;</th><th scope=col>&lt;chr&gt;</th><th scope=col>&lt;chr&gt;</th><th scope=col>&lt;chr&gt;</th><th scope=col>&lt;dbl&gt;</th><th scope=col>&lt;dbl&gt;</th></tr>\n",
       "</thead>\n",
       "<tbody>\n",
       "\t<tr><td>2020-12-01</td><td>2020-12-01</td><td>Canola</td><td>Saskatchewan</td><td>507.33</td><td>396.1128</td></tr>\n",
       "\t<tr><td>2020-11-01</td><td>2020-11-01</td><td>Canola</td><td>Saskatchewan</td><td>495.64</td><td>379.2718</td></tr>\n",
       "\t<tr><td>2020-10-01</td><td>2020-10-01</td><td>Canola</td><td>Saskatchewan</td><td>474.80</td><td>359.2965</td></tr>\n",
       "\t<tr><td>2020-09-01</td><td>2020-09-01</td><td>Canola</td><td>Saskatchewan</td><td>463.52</td><td>350.4057</td></tr>\n",
       "\t<tr><td>2020-08-01</td><td>2020-08-01</td><td>Canola</td><td>Saskatchewan</td><td>464.60</td><td>351.3827</td></tr>\n",
       "\t<tr><td>2020-07-01</td><td>2020-07-01</td><td>Canola</td><td>Saskatchewan</td><td>462.88</td><td>342.9122</td></tr>\n",
       "</tbody>\n",
       "</table>\n"
      ],
      "text/latex": [
       "A data.frame: 6 × 6\n",
       "\\begin{tabular}{llllll}\n",
       " DATE & DATE & CROP\\_TYPE & GEO & PRICE\\_PRERMT & MT\\_USD\\\\\n",
       " <chr> & <chr> & <chr> & <chr> & <dbl> & <dbl>\\\\\n",
       "\\hline\n",
       "\t 2020-12-01 & 2020-12-01 & Canola & Saskatchewan & 507.33 & 396.1128\\\\\n",
       "\t 2020-11-01 & 2020-11-01 & Canola & Saskatchewan & 495.64 & 379.2718\\\\\n",
       "\t 2020-10-01 & 2020-10-01 & Canola & Saskatchewan & 474.80 & 359.2965\\\\\n",
       "\t 2020-09-01 & 2020-09-01 & Canola & Saskatchewan & 463.52 & 350.4057\\\\\n",
       "\t 2020-08-01 & 2020-08-01 & Canola & Saskatchewan & 464.60 & 351.3827\\\\\n",
       "\t 2020-07-01 & 2020-07-01 & Canola & Saskatchewan & 462.88 & 342.9122\\\\\n",
       "\\end{tabular}\n"
      ],
      "text/markdown": [
       "\n",
       "A data.frame: 6 × 6\n",
       "\n",
       "| DATE &lt;chr&gt; | DATE &lt;chr&gt; | CROP_TYPE &lt;chr&gt; | GEO &lt;chr&gt; | PRICE_PRERMT &lt;dbl&gt; | MT_USD &lt;dbl&gt; |\n",
       "|---|---|---|---|---|---|\n",
       "| 2020-12-01 | 2020-12-01 | Canola | Saskatchewan | 507.33 | 396.1128 |\n",
       "| 2020-11-01 | 2020-11-01 | Canola | Saskatchewan | 495.64 | 379.2718 |\n",
       "| 2020-10-01 | 2020-10-01 | Canola | Saskatchewan | 474.80 | 359.2965 |\n",
       "| 2020-09-01 | 2020-09-01 | Canola | Saskatchewan | 463.52 | 350.4057 |\n",
       "| 2020-08-01 | 2020-08-01 | Canola | Saskatchewan | 464.60 | 351.3827 |\n",
       "| 2020-07-01 | 2020-07-01 | Canola | Saskatchewan | 462.88 | 342.9122 |\n",
       "\n"
      ],
      "text/plain": [
       "  DATE       DATE       CROP_TYPE GEO          PRICE_PRERMT MT_USD  \n",
       "1 2020-12-01 2020-12-01 Canola    Saskatchewan 507.33       396.1128\n",
       "2 2020-11-01 2020-11-01 Canola    Saskatchewan 495.64       379.2718\n",
       "3 2020-10-01 2020-10-01 Canola    Saskatchewan 474.80       359.2965\n",
       "4 2020-09-01 2020-09-01 Canola    Saskatchewan 463.52       350.4057\n",
       "5 2020-08-01 2020-08-01 Canola    Saskatchewan 464.60       351.3827\n",
       "6 2020-07-01 2020-07-01 Canola    Saskatchewan 462.88       342.9122"
      ]
     },
     "metadata": {},
     "output_type": "display_data"
    }
   ],
   "source": [
    "# Write your query here\n",
    "dbGetQuery(conn, \"SELECT M.DATE ,F.DATE, F.CROP_TYPE, F.GEO, F.PRICE_PRERMT, F.PRICE_PRERMT/M.FXUSDCAD AS MT_USD\n",
    "                    FROM FARM_PRICES F, MONTHLY_FX M\n",
    "                    WHERE F.DATE = M.DATE AND F.CROP_TYPE = 'Canola' AND F.GEO = 'Saskatchewan'\n",
    "                    ORDER BY M.DATE DESC LIMIT 6\")"
   ]
  },
  {
   "cell_type": "markdown",
   "metadata": {},
   "source": [
    "## Author(s)\n",
    "\n",
    "<h4> Jeff Grossman </h4>\n",
    "\n",
    "<h4> D.M. Naidu </h4>\n",
    "\n",
    "## Contributor(s)\n",
    "\n",
    "<h4> Rav Ahuja </h4>\n",
    "\n",
    "<h4> Lakshmi Holla </h4>\n",
    "\n",
    "\n",
    "## Change log\n",
    "\n",
    "| Date       | Version | Changed by    | Change Description                        |\n",
    "| ---------- | ------- | ------------- | ----------------------------------------- |\n",
    "| 2022-03-03 | 1.0     | D.M. Naidu    | Converted intial version to RSQLite       |\n",
    "\n",
    "## <h3 align=\"center\"> © IBM Corporation 2022. All rights reserved. <h3/>\n"
   ]
  }
 ],
 "metadata": {
  "kernelspec": {
   "display_name": "R",
   "language": "R",
   "name": "conda-env-r-r"
  },
  "language_info": {
   "codemirror_mode": "r",
   "file_extension": ".r",
   "mimetype": "text/x-r-source",
   "name": "R",
   "pygments_lexer": "r",
   "version": "3.5.1"
  }
 },
 "nbformat": 4,
 "nbformat_minor": 4
}
